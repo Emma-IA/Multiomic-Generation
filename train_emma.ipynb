{
 "cells": [
  {
   "cell_type": "code",
   "execution_count": 1,
   "metadata": {},
   "outputs": [],
   "source": [
    "import os\n",
    "import torch\n",
    "from torch.utils.data import DataLoader\n",
    "from model_paired_ae_emma import MultimodalAE, Encoder, Decoder\n",
    "from src.dataset import generate_datasets\n",
    "import torch.nn as nn"
   ]
  },
  {
   "cell_type": "markdown",
   "metadata": {},
   "source": [
    "### Data"
   ]
  },
  {
   "cell_type": "code",
   "execution_count": 2,
   "metadata": {},
   "outputs": [
    {
     "name": "stdout",
     "output_type": "stream",
     "text": [
      "Loading paired dataset\n",
      "Loading paired dataset\n"
     ]
    }
   ],
   "source": [
    "# Génération des ensembles de données\n",
    "train_datasets = generate_datasets(suffix='5_diff', type='paired', train=True, test=False)\n",
    "test_datasets = generate_datasets(suffix='5_diff', type='paired', train=False, test=True)\n",
    "\n",
    "\n",
    "# Création des chargeurs de données\n",
    "train_loaders = [DataLoader(dataset, batch_size=32, shuffle=True) for dataset in train_datasets]\n",
    "test_loaders = [DataLoader(dataset, batch_size=32, shuffle=False) for dataset in test_datasets]\n",
    "\n",
    "\n",
    "# Obtenez les dimensions d'entrée à partir des ensembles de données\n",
    "n_inputs1 = train_datasets[0][0][0].shape[0]  # La taille du vecteur de caractéristiques pour la modalité 1\n",
    "n_inputs2 = train_datasets[1][0][0].shape[0]  # La taille du vecteur de caractéristiques pour la modalité 2\n",
    "n_inputs3 = train_datasets[2][0][0].shape[0]  # La taille du vecteur de caractéristiques pour la modalité 3\n"
   ]
  },
  {
   "cell_type": "markdown",
   "metadata": {},
   "source": [
    "### Initialisation des modèles"
   ]
  },
  {
   "cell_type": "code",
   "execution_count": 3,
   "metadata": {},
   "outputs": [],
   "source": [
    "# Dimensions espace latent et taille des couches cachées\n",
    "latent_dims = 20   \n",
    "n_hiddens = 256 \n",
    "\n",
    "# Création du modèle\n",
    "encoder1 = Encoder(n_inputs1, latent_dims, n_hiddens)\n",
    "encoder2 = Encoder(n_inputs2, latent_dims, n_hiddens)\n",
    "encoder3 = Encoder(n_inputs3, latent_dims, n_hiddens)\n",
    "\n",
    "z1 = encoder1(train_datasets[0][0][0])\n",
    "z2 = encoder2(train_datasets[1][0][0])\n",
    "z3 = encoder3(train_datasets[2][0][0])\n",
    "\n",
    "decoder1 = Decoder(n_inputs1, latent_dims, n_hiddens)\n",
    "decoder2 = Decoder(n_inputs2, latent_dims, n_hiddens)\n",
    "decoder3 = Decoder(n_inputs3, latent_dims, n_hiddens)\n",
    "\n",
    "model1 = MultimodalAE(encoder=encoder1, decoder=decoder1)\n",
    "model2 = MultimodalAE(encoder=encoder2, decoder=decoder2)\n",
    "model1_2 = MultimodalAE(encoder=encoder1, decoder=decoder2)\n",
    "model2_1 = MultimodalAE(encoder=encoder2, decoder=decoder1)\n",
    "model3 = MultimodalAE(encoder=encoder3, decoder=decoder3)\n",
    "model1_3 = MultimodalAE(encoder=encoder1, decoder=decoder3)\n",
    "model3_1 = MultimodalAE(encoder=encoder3, decoder=decoder1)\n",
    "model2_3 = MultimodalAE(encoder=encoder2, decoder=decoder3)\n",
    "model3_2 = MultimodalAE(encoder=encoder3, decoder=decoder2)"
   ]
  },
  {
   "cell_type": "markdown",
   "metadata": {},
   "source": [
    "### Critère et Optimiseur "
   ]
  },
  {
   "cell_type": "code",
   "execution_count": 4,
   "metadata": {},
   "outputs": [],
   "source": [
    "# Choix de la fonction de perte et de l'optimiseur\n",
    "critere = nn.MSELoss()\n",
    "lr = 0.001\n",
    "optimizer1 = torch.optim.Adam(model1.parameters(), lr=lr)\n",
    "optimizer2 = torch.optim.Adam(model2.parameters(), lr=lr)\n",
    "optimizer1_2 = torch.optim.Adam(model1_2.parameters(), lr=lr)\n",
    "optimizer2_1 = torch.optim.Adam(model2_1.parameters(), lr=lr)\n",
    "optimizer3 = torch.optim.Adam(model3.parameters(), lr=lr)\n",
    "optimizer1_3 = torch.optim.Adam(model1_3.parameters(), lr=lr)\n",
    "optimizer3_1 = torch.optim.Adam(model3_1.parameters(), lr=lr)"
   ]
  },
  {
   "cell_type": "markdown",
   "metadata": {},
   "source": [
    "### Train"
   ]
  },
  {
   "cell_type": "code",
   "execution_count": null,
   "metadata": {},
   "outputs": [],
   "source": [
    "# Entraînement du modèle\n",
    "num_epochs = 200\n",
    "\n",
    "for epoch in range(num_epochs):\n",
    "    model1.train()\n",
    "    model3.train()\n",
    "    model1_3.train()\n",
    "    model3_1.train()\n",
    "    for (x1, _), (x2, _), (x3, y) in zip(*train_loaders):\n",
    "\n",
    "        if x1.size(0) != 32 or x3.size(0) != 32 or y.size(0) != 32:\n",
    "            continue\n",
    "\n",
    "       # Forward pass\n",
    "        o1, o3, o1_3, o3_1 = model1(x1), model3(x3), model1_3(x1), model3_1(x3)\n",
    "        loss = critere(o1, x1) + 0*critere(o3, x3) + 0*critere(o1_3, x3) + 0*critere(o3_1, x1)\n",
    "        # loss = 0*critere(o1, x1) + 0*critere(o3, x3) + critere(o1_3, x3) + 0*critere(o3_1, x1)\n",
    "        \n",
    "        # Backward and optimize\n",
    "        optimizer1.zero_grad()\n",
    "        optimizer3.zero_grad()\n",
    "        optimizer1_3.zero_grad()\n",
    "        optimizer3_1.zero_grad()\n",
    "\n",
    "        loss.backward()\n",
    "\n",
    "        optimizer1.step()\n",
    "        optimizer3.step()\n",
    "        optimizer1_3.step()\n",
    "        optimizer3_1.step()\n",
    "        \n",
    "\n",
    "    print(f' Epoch {epoch} -> loss totale :', loss.item(), \" loss1 :\", critere(o1, x1).item(), \" loss3 :\", critere(o3, x3).item(), \" loss1_3 :\", critere(o1_3, x3).item(), \" loss3_1 :\", critere(o3_1, x1).item())\n",
    "\n",
    "# model1.eval()\n",
    "# model3.eval()\n",
    "model1_3.eval()\n",
    "model3_1.eval()"
   ]
  },
  {
   "cell_type": "markdown",
   "metadata": {},
   "source": [
    "### Test"
   ]
  },
  {
   "cell_type": "code",
   "execution_count": null,
   "metadata": {},
   "outputs": [],
   "source": [
    "with torch.no_grad():\n",
    "    total_loss = 0\n",
    "    for (x1, _), (x2, _), (x3, y) in zip(*test_loaders):\n",
    "        o1, o3, o1_3, o3_1 = model1(x1), model3(x3), model1_3(x1), model3_1(x3)\n",
    "        loss = critere(o1, x1) + critere(o3, x3) + critere(o1_3, x3) + critere(o3_1, x1)\n",
    "        total_loss += loss.item()\n",
    "    print(f'Test Loss: {total_loss / len(test_loaders[0])}')\n",
    "    print(\" loss1 :\", critere(o1, x1).item(), \" loss3 :\", critere(o3, x3).item(), \" loss1_3 :\", critere(o1_3, x3).item(), \" loss3_1 :\", critere(o3_1, x1).item())\n"
   ]
  }
 ],
 "metadata": {
  "kernelspec": {
   "display_name": "cma",
   "language": "python",
   "name": "python3"
  },
  "language_info": {
   "codemirror_mode": {
    "name": "ipython",
    "version": 3
   },
   "file_extension": ".py",
   "mimetype": "text/x-python",
   "name": "python",
   "nbconvert_exporter": "python",
   "pygments_lexer": "ipython3",
   "version": "3.11.7"
  }
 },
 "nbformat": 4,
 "nbformat_minor": 2
}
