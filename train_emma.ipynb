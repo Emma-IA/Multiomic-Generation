{
 "cells": [
  {
   "cell_type": "code",
   "execution_count": 12,
   "metadata": {},
   "outputs": [],
   "source": [
    "import os\n",
    "import torch\n",
    "from torch.utils.data import DataLoader\n",
    "from model_paired_ae_emma import MultimodalAE, Encoder, Decoder\n",
    "from src.dataset import generate_datasets, concat_datasets\n",
    "import torch.nn as nn"
   ]
  },
  {
   "cell_type": "code",
   "execution_count": 13,
   "metadata": {},
   "outputs": [
    {
     "name": "stdout",
     "output_type": "stream",
     "text": [
      "false\n",
      "true\n",
      "true\n",
      "false\n",
      "true\n",
      "true\n",
      "false\n",
      "true\n",
      "true\n",
      "false\n",
      "true\n",
      "true\n"
     ]
    },
    {
     "data": {
      "text/plain": [
       "'Concatenated paired datasets : Done'"
      ]
     },
     "execution_count": 13,
     "metadata": {},
     "output_type": "execute_result"
    }
   ],
   "source": [
    "concat_datasets(root_dir='./data', suffix='diff')"
   ]
  },
  {
   "cell_type": "markdown",
   "metadata": {},
   "source": [
    "### Data"
   ]
  },
  {
   "cell_type": "code",
   "execution_count": 14,
   "metadata": {},
   "outputs": [
    {
     "name": "stdout",
     "output_type": "stream",
     "text": [
      "Loading paired dataset\n",
      "Loading paired dataset\n"
     ]
    }
   ],
   "source": [
    "# Génération des ensembles de données\n",
    "train_datasets = generate_datasets(suffix='all_diff', type='paired', train=True, test=False)\n",
    "test_datasets = generate_datasets(suffix='all_diff', type='paired', train=False, test=True)\n",
    "\n",
    "\n",
    "# Création des chargeurs de données\n",
    "train_loaders = [DataLoader(dataset, batch_size=32, shuffle=True) for dataset in train_datasets]\n",
    "test_loaders = [DataLoader(dataset, batch_size=32, shuffle=False) for dataset in test_datasets]\n",
    "\n",
    "\n",
    "# Obtenez les dimensions d'entrée à partir des ensembles de données\n",
    "n_inputs1 = train_datasets[0][0][0].shape[0]  # La taille du vecteur de caractéristiques pour la modalité 1\n",
    "n_inputs2 = train_datasets[1][0][0].shape[0]  # La taille du vecteur de caractéristiques pour la modalité 2\n",
    "n_inputs3 = train_datasets[2][0][0].shape[0]  # La taille du vecteur de caractéristiques pour la modalité 3"
   ]
  },
  {
   "cell_type": "markdown",
   "metadata": {},
   "source": [
    "### Initialisation des modèles"
   ]
  },
  {
   "cell_type": "code",
   "execution_count": 15,
   "metadata": {},
   "outputs": [],
   "source": [
    "latent_dims = 20   \n",
    "n_hiddens = 256\n",
    "\n",
    "# Création du modèle\n",
    "encoder1 = Encoder(n_inputs1, latent_dims, n_hiddens)\n",
    "encoder2 = Encoder(n_inputs2, latent_dims, n_hiddens)\n",
    "encoder3 = Encoder(n_inputs3, latent_dims, n_hiddens)\n",
    "\n",
    "z1 = encoder1(train_datasets[0][0][0])\n",
    "z2 = encoder2(train_datasets[1][0][0])\n",
    "z3 = encoder3(train_datasets[2][0][0])\n",
    "\n",
    "decoder1 = Decoder(n_inputs1, latent_dims, n_hiddens)\n",
    "decoder2 = Decoder(n_inputs2, latent_dims, n_hiddens)\n",
    "decoder3 = Decoder(n_inputs3, latent_dims, n_hiddens)\n",
    "\n",
    "model1 = MultimodalAE(encoder=encoder1, decoder=decoder1)\n",
    "model2 = MultimodalAE(encoder=encoder2, decoder=decoder2)\n",
    "model1_2 = MultimodalAE(encoder=encoder1, decoder=decoder2)\n",
    "model2_1 = MultimodalAE(encoder=encoder2, decoder=decoder1)\n",
    "model3 = MultimodalAE(encoder=encoder3, decoder=decoder3)\n",
    "model1_3 = MultimodalAE(encoder=encoder1, decoder=decoder3)\n",
    "model3_1 = MultimodalAE(encoder=encoder3, decoder=decoder1)\n",
    "model2_3 = MultimodalAE(encoder=encoder2, decoder=decoder3)\n",
    "model3_2 = MultimodalAE(encoder=encoder3, decoder=decoder2)"
   ]
  },
  {
   "cell_type": "markdown",
   "metadata": {},
   "source": [
    "### Critère et optimiseur"
   ]
  },
  {
   "cell_type": "code",
   "execution_count": 16,
   "metadata": {},
   "outputs": [],
   "source": [
    "critere = nn.MSELoss()\n",
    "lr = 0.001\n",
    "optimizer1 = torch.optim.Adam(model1.parameters(), lr=lr)\n",
    "optimizer2 = torch.optim.Adam(model2.parameters(), lr=lr)\n",
    "optimizer1_2 = torch.optim.Adam(model1_2.parameters(), lr=lr)\n",
    "optimizer2_1 = torch.optim.Adam(model2_1.parameters(), lr=lr)\n",
    "optimizer3 = torch.optim.Adam(model3.parameters(), lr=lr)\n",
    "optimizer1_3 = torch.optim.Adam(model1_3.parameters(), lr=lr)\n",
    "optimizer3_1 = torch.optim.Adam(model3_1.parameters(), lr=lr)"
   ]
  },
  {
   "cell_type": "markdown",
   "metadata": {},
   "source": [
    "### Train"
   ]
  },
  {
   "cell_type": "code",
   "execution_count": 38,
   "metadata": {},
   "outputs": [
    {
     "name": "stdout",
     "output_type": "stream",
     "text": [
      "Epoch 1 -> Total Loss: 0.2774\n",
      "Epoch 2 -> Total Loss: 0.1565\n",
      "Epoch 3 -> Total Loss: 0.1287\n",
      "Epoch 4 -> Total Loss: 0.1225\n",
      "Epoch 5 -> Total Loss: 0.1218\n",
      "Epoch 6 -> Total Loss: 0.1057\n",
      "Epoch 7 -> Total Loss: 0.1038\n",
      "Epoch 8 -> Total Loss: 0.1069\n",
      "Epoch 9 -> Total Loss: 0.1033\n",
      "Epoch 10 -> Total Loss: 0.0971\n",
      "Epoch 11 -> Total Loss: 0.0989\n",
      "Epoch 12 -> Total Loss: 0.0868\n",
      "Epoch 13 -> Total Loss: 0.0947\n",
      "Epoch 14 -> Total Loss: 0.0923\n",
      "Epoch 15 -> Total Loss: 0.0809\n",
      "Epoch 16 -> Total Loss: 0.0802\n",
      "Epoch 17 -> Total Loss: 0.0846\n",
      "Epoch 18 -> Total Loss: 0.0816\n",
      "Epoch 19 -> Total Loss: 0.0808\n",
      "Epoch 20 -> Total Loss: 0.0835\n",
      "Epoch 21 -> Total Loss: 0.0849\n",
      "Epoch 22 -> Total Loss: 0.0753\n",
      "Epoch 23 -> Total Loss: 0.0835\n",
      "Epoch 24 -> Total Loss: 0.0796\n",
      "Epoch 25 -> Total Loss: 0.0779\n",
      "Epoch 26 -> Total Loss: 0.0765\n",
      "Epoch 27 -> Total Loss: 0.0773\n",
      "Epoch 28 -> Total Loss: 0.0775\n",
      "Epoch 29 -> Total Loss: 0.0764\n",
      "Epoch 30 -> Total Loss: 0.0731\n",
      "Epoch 31 -> Total Loss: 0.0762\n",
      "Epoch 32 -> Total Loss: 0.0851\n",
      "Epoch 33 -> Total Loss: 0.0769\n",
      "Epoch 34 -> Total Loss: 0.0755\n",
      "Epoch 35 -> Total Loss: 0.0772\n",
      "Epoch 36 -> Total Loss: 0.0764\n",
      "Epoch 37 -> Total Loss: 0.0765\n",
      "Epoch 38 -> Total Loss: 0.0736\n",
      "Epoch 39 -> Total Loss: 0.0828\n",
      "Epoch 40 -> Total Loss: 0.0777\n",
      "Epoch 41 -> Total Loss: 0.0771\n",
      "Epoch 42 -> Total Loss: 0.0694\n",
      "Epoch 43 -> Total Loss: 0.0677\n",
      "Epoch 44 -> Total Loss: 0.0710\n",
      "Epoch 45 -> Total Loss: 0.0683\n",
      "Epoch 46 -> Total Loss: 0.0727\n",
      "Epoch 47 -> Total Loss: 0.0715\n",
      "Epoch 48 -> Total Loss: 0.0693\n",
      "Epoch 49 -> Total Loss: 0.0678\n",
      "Epoch 50 -> Total Loss: 0.0706\n",
      "Epoch 51 -> Total Loss: 0.0711\n",
      "Epoch 52 -> Total Loss: 0.0708\n",
      "Epoch 53 -> Total Loss: 0.0732\n",
      "Epoch 54 -> Total Loss: 0.0686\n",
      "Epoch 55 -> Total Loss: 0.0693\n",
      "Epoch 56 -> Total Loss: 0.0681\n",
      "Epoch 57 -> Total Loss: 0.0673\n",
      "Epoch 58 -> Total Loss: 0.0656\n",
      "Epoch 59 -> Total Loss: 0.0667\n",
      "Epoch 60 -> Total Loss: 0.0682\n",
      "Epoch 61 -> Total Loss: 0.0675\n",
      "Epoch 62 -> Total Loss: 0.0692\n",
      "Epoch 63 -> Total Loss: 0.0706\n",
      "Epoch 64 -> Total Loss: 0.0713\n",
      "Epoch 65 -> Total Loss: 0.0815\n",
      "Epoch 66 -> Total Loss: 0.0806\n",
      "Epoch 67 -> Total Loss: 0.0799\n",
      "Epoch 68 -> Total Loss: 0.0764\n",
      "Epoch 69 -> Total Loss: 0.0680\n",
      "Epoch 70 -> Total Loss: 0.0683\n"
     ]
    }
   ],
   "source": [
    "num_epochs = 100\n",
    "batch_size = 32\n",
    "list1_1 = []\n",
    "list3_3 = []\n",
    "list1_3 = []\n",
    "list3_1 = []\n",
    "\n",
    "for epoch in range(num_epochs):\n",
    "    model1.train()\n",
    "    model3.train()\n",
    "    model1_3.train()\n",
    "    model3_1.train()\n",
    "    \n",
    "    for i, ((x1, _), (x2, _), (x3, y)) in enumerate(zip(*train_loaders)):\n",
    "        if x1.size(0) != batch_size or x3.size(0) != batch_size or y.size(0) != batch_size:\n",
    "            continue\n",
    "        \n",
    "        # Forward pass\n",
    "        o1, o3, o1_3, o3_1 = model1(x1), model3(x3), model1_3(x1), model3_1(x3)\n",
    "        loss1_1, loss3_3, loss1_3, loss3_1 = critere(o1, x1), critere(o3, x3), critere(o1_3, x3), critere(o3_1, x1)\n",
    "        \n",
    "        # Compute total loss\n",
    "        loss = loss1_1 + loss3_3 + 0*loss1_3 + 0*loss3_1\n",
    "        \n",
    "        # Backward and optimize\n",
    "        optimizer1.zero_grad()\n",
    "        optimizer3.zero_grad()\n",
    "        # optimizer1_3.zero_grad()\n",
    "        # optimizer3_1.zero_grad()\n",
    "        loss.backward()\n",
    "        optimizer1.step()\n",
    "        optimizer3.step()\n",
    "        # optimizer1_3.step()\n",
    "        # optimizer3_1.step()\n",
    "\n",
    "    list1_1.append(loss1_1.item())\n",
    "    list3_3.append(loss3_3.item())\n",
    "    list1_3.append(loss1_3.item())\n",
    "    list3_1.append(loss3_1.item())\n",
    "    \n",
    "    # Print epoch-wise losses\n",
    "    print(f'Epoch {epoch + 1} -> Total Loss: {loss:.4f}')"
   ]
  },
  {
   "cell_type": "code",
   "execution_count": 37,
   "metadata": {},
   "outputs": [
    {
     "data": {
      "text/plain": [
       "<matplotlib.legend.Legend at 0x27854abbe90>"
      ]
     },
     "execution_count": 37,
     "metadata": {},
     "output_type": "execute_result"
    },
    {
     "data": {
      "image/png": "[encoded data removed]",
      "text/plain": [
       "<Figure size 640x480 with 1 Axes>"
      ]
     },
     "metadata": {},
     "output_type": "display_data"
    }
   ],
   "source": [
    "import matplotlib.pyplot as plt\n",
    "\n",
    "plt.plot(list1_1, label='loss1_1')\n",
    "plt.plot(list3_3, label='loss3_3')\n",
    "plt.plot(list1_3, label='loss1_3')\n",
    "plt.plot(list3_1, label='loss3_1')\n",
    "plt.xlabel('Epoch')\n",
    "plt.ylabel('Loss')\n",
    "plt.title('Losses : only simple model 3 trained (3_3)')\n",
    "plt.legend()"
   ]
  },
  {
   "cell_type": "markdown",
   "metadata": {},
   "source": [
    "### Test"
   ]
  },
  {
   "cell_type": "code",
   "execution_count": 10,
   "metadata": {},
   "outputs": [
    {
     "name": "stdout",
     "output_type": "stream",
     "text": [
      "Test Loss: 2.2952415566695366\n",
      " loss1 : 0.2092171162366867  loss3 : 0.08865409344434738  loss1_3 : 0.9565213322639465  loss3_1 : 0.9690064787864685\n"
     ]
    }
   ],
   "source": [
    "model1.eval()\n",
    "model3.eval()\n",
    "model1_3.eval()\n",
    "model3_1.eval()\n",
    "\n",
    "with torch.no_grad():\n",
    "    total_loss = 0\n",
    "    for (x1, _), (x2, _), (x3, y) in zip(*test_loaders):\n",
    "        o1, o3, o1_3, o3_1 = model1(x1), model3(x3), model1_3(x1), model3_1(x3)\n",
    "        loss = critere(o1, x1) + critere(o3, x3) + critere(o1_3, x3) + critere(o3_1, x1)\n",
    "        total_loss += loss.item()\n",
    "    print(f'Test Loss: {total_loss / len(test_loaders[0])}')\n",
    "    print(\" loss1 :\", critere(o1, x1).item(), \" loss3 :\", critere(o3, x3).item(), \" loss1_3 :\", critere(o1_3, x3).item(), \" loss3_1 :\", critere(o3_1, x1).item())"
   ]
  },
  {
   "cell_type": "markdown",
   "metadata": {},
   "source": [
    "# Autre tentative : avec décodeurs déjà entaînés"
   ]
  },
  {
   "cell_type": "markdown",
   "metadata": {},
   "source": [
    "### Initialisation des modèles"
   ]
  },
  {
   "cell_type": "code",
   "execution_count": null,
   "metadata": {},
   "outputs": [],
   "source": [
    "# Création du modèle\n",
    "encoder1_new = Encoder(n_inputs1, latent_dims, n_hiddens)\n",
    "encoder3_new = Encoder(n_inputs3, latent_dims, n_hiddens)\n",
    "\n",
    "decoder1_new = decoder1.clone()\n",
    "\n",
    "model1_new = MultimodalAE(encoder=encoder1_new, decoder=decoder1_new)\n",
    "model3_1_new = MultimodalAE(encoder=encoder3_new, decoder=decoder1_new)"
   ]
  },
  {
   "cell_type": "code",
   "execution_count": null,
   "metadata": {},
   "outputs": [],
   "source": [
    "critere = nn.MSELoss()\n",
    "lr = 0.001\n",
    "optimizer1_new = torch.optim.Adam(model1_new.parameters(), lr=lr)\n",
    "optimizer3_1_new = torch.optim.Adam(model3_1_new.parameters(), lr=lr)"
   ]
  },
  {
   "cell_type": "code",
   "execution_count": null,
   "metadata": {},
   "outputs": [],
   "source": [
    "num_epochs = 100\n",
    "batch_size = 32\n",
    "list1_1 = []\n",
    "list3_1 = []\n",
    "\n",
    "for epoch in range(num_epochs):\n",
    "    model1_new.train()\n",
    "    model3_1_new.train()\n",
    "    \n",
    "    running_loss = 0.0\n",
    "    \n",
    "    for i, ((x1, _), (x2, _), (x3, y)) in enumerate(zip(*train_loaders)):\n",
    "        if x1.size(0) != batch_size or x3.size(0) != batch_size or y.size(0) != batch_size:\n",
    "            continue\n",
    "        \n",
    "        # Forward pass\n",
    "        o1, o3, o1_3, o3_1 = model1(x1), model3(x3), model1_3(x1), model3_1(x3)\n",
    "        loss1_1, loss3_3, loss1_3, loss3_1 = critere(o1, x1), critere(o3, x3), critere(o1_3, x3), critere(o3_1, x1)\n",
    "        \n",
    "        # Compute total loss\n",
    "        loss = loss1_1 + loss3_3 + 0*loss1_3 + 0*loss3_1\n",
    "        \n",
    "        # Backward and optimize\n",
    "        optimizer1.zero_grad()\n",
    "        optimizer3.zero_grad()\n",
    "        # optimizer1_3.zero_grad()\n",
    "        # optimizer3_1.zero_grad()\n",
    "        loss.backward()\n",
    "        optimizer1.step()\n",
    "        optimizer3.step()\n",
    "        # optimizer1_3.step()\n",
    "        # optimizer3_1.step()\n",
    "\n",
    "    list1_1.append(loss1_1.item())\n",
    "    list3_3.append(loss3_3.item())\n",
    "    list1_3.append(loss1_3.item())\n",
    "    list3_1.append(loss3_1.item())\n",
    "    \n",
    "    # Print epoch-wise losses\n",
    "    print(f'Epoch {epoch + 1} -> Total Loss: {loss:.4f}')"
   ]
  }
 ],
 "metadata": {
  "kernelspec": {
   "display_name": "cma",
   "language": "python",
   "name": "python3"
  },
  "language_info": {
   "codemirror_mode": {
    "name": "ipython",
    "version": 3
   },
   "file_extension": ".py",
   "mimetype": "text/x-python",
   "name": "python",
   "nbconvert_exporter": "python",
   "pygments_lexer": "ipython3",
   "version": "3.11.7"
  }
 },
 "nbformat": 4,
 "nbformat_minor": 2
}
